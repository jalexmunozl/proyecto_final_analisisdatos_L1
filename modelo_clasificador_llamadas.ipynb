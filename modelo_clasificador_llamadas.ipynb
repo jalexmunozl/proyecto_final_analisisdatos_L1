{
 "cells": [
  {
   "cell_type": "code",
   "execution_count": 221,
   "id": "93f59d4e",
   "metadata": {},
   "outputs": [],
   "source": [
    "import pandas as pd\n",
    "from sklearn.model_selection import train_test_split\n",
    "from sklearn.ensemble import RandomForestClassifier\n",
    "from sklearn.metrics import accuracy_score, precision_score, recall_score, f1_score\n",
    "from sklearn.tree import DecisionTreeClassifier\n",
    "import json\n",
    "import joblib\n",
    "from sklearn.preprocessing import LabelEncoder\n"
   ]
  },
  {
   "cell_type": "code",
   "execution_count": 222,
   "id": "1f007869",
   "metadata": {},
   "outputs": [
    {
     "name": "stdout",
     "output_type": "stream",
     "text": [
      "<class 'pandas.core.frame.DataFrame'>\n",
      "RangeIndex: 578958 entries, 0 to 578957\n",
      "Data columns (total 9 columns):\n",
      " #   Column      Non-Null Count   Dtype \n",
      "---  ------      --------------   ----- \n",
      " 0   Fecha       578958 non-null  object\n",
      " 1   Fuente      578958 non-null  int64 \n",
      " 2   Destino     578958 non-null  int64 \n",
      " 3   Estado      578958 non-null  object\n",
      " 4   Minutos     578958 non-null  int64 \n",
      " 5   Hora        578958 non-null  int64 \n",
      " 6   Dia_semana  578958 non-null  int64 \n",
      " 7   Mes         578958 non-null  int64 \n",
      " 8   Dia_mes     578958 non-null  int64 \n",
      "dtypes: int64(7), object(2)\n",
      "memory usage: 39.8+ MB\n"
     ]
    }
   ],
   "source": [
    "#importar documento\n",
    "df = pd.read_csv('datos_unidos_procesados.csv')\n",
    "df.info()"
   ]
  },
  {
   "cell_type": "code",
   "execution_count": 223,
   "id": "6f7ce7bd",
   "metadata": {},
   "outputs": [
    {
     "name": "stdout",
     "output_type": "stream",
     "text": [
      "<class 'pandas.core.frame.DataFrame'>\n",
      "RangeIndex: 578958 entries, 0 to 578957\n",
      "Data columns (total 8 columns):\n",
      " #   Column      Non-Null Count   Dtype \n",
      "---  ------      --------------   ----- \n",
      " 0   Fuente      578958 non-null  int64 \n",
      " 1   Destino     578958 non-null  int64 \n",
      " 2   Estado      578958 non-null  object\n",
      " 3   Minutos     578958 non-null  int64 \n",
      " 4   Hora        578958 non-null  int64 \n",
      " 5   Dia_semana  578958 non-null  int64 \n",
      " 6   Mes         578958 non-null  int64 \n",
      " 7   Dia_mes     578958 non-null  int64 \n",
      "dtypes: int64(7), object(1)\n",
      "memory usage: 35.3+ MB\n"
     ]
    }
   ],
   "source": [
    "#Elimina la columna Fecha\n",
    "df = df.drop(columns=['Fecha'])\n",
    "df.info()"
   ]
  },
  {
   "cell_type": "code",
   "execution_count": 224,
   "id": "79300df1",
   "metadata": {},
   "outputs": [
    {
     "data": {
      "text/plain": [
       "Index(['Estado'], dtype='object')"
      ]
     },
     "execution_count": 224,
     "metadata": {},
     "output_type": "execute_result"
    }
   ],
   "source": [
    "#Verifica los tipos objects\n",
    "colum_pre = df.select_dtypes('object').columns\n",
    "colum_pre"
   ]
  },
  {
   "cell_type": "code",
   "execution_count": 225,
   "id": "8c986004",
   "metadata": {},
   "outputs": [
    {
     "data": {
      "text/html": [
       "<div>\n",
       "<style scoped>\n",
       "    .dataframe tbody tr th:only-of-type {\n",
       "        vertical-align: middle;\n",
       "    }\n",
       "\n",
       "    .dataframe tbody tr th {\n",
       "        vertical-align: top;\n",
       "    }\n",
       "\n",
       "    .dataframe thead th {\n",
       "        text-align: right;\n",
       "    }\n",
       "</style>\n",
       "<table border=\"1\" class=\"dataframe\">\n",
       "  <thead>\n",
       "    <tr style=\"text-align: right;\">\n",
       "      <th></th>\n",
       "      <th>Fuente</th>\n",
       "      <th>Destino</th>\n",
       "      <th>Estado</th>\n",
       "      <th>Minutos</th>\n",
       "      <th>Hora</th>\n",
       "      <th>Dia_semana</th>\n",
       "      <th>Mes</th>\n",
       "      <th>Dia_mes</th>\n",
       "      <th>Estado_encoder</th>\n",
       "    </tr>\n",
       "  </thead>\n",
       "  <tbody>\n",
       "    <tr>\n",
       "      <th>0</th>\n",
       "      <td>2618</td>\n",
       "      <td>3168170365</td>\n",
       "      <td>CONTESTADO</td>\n",
       "      <td>1</td>\n",
       "      <td>7</td>\n",
       "      <td>1</td>\n",
       "      <td>6</td>\n",
       "      <td>3</td>\n",
       "      <td>0</td>\n",
       "    </tr>\n",
       "    <tr>\n",
       "      <th>1</th>\n",
       "      <td>2615</td>\n",
       "      <td>6027315465</td>\n",
       "      <td>NO CONTESTADO</td>\n",
       "      <td>0</td>\n",
       "      <td>7</td>\n",
       "      <td>1</td>\n",
       "      <td>6</td>\n",
       "      <td>3</td>\n",
       "      <td>2</td>\n",
       "    </tr>\n",
       "    <tr>\n",
       "      <th>2</th>\n",
       "      <td>2615</td>\n",
       "      <td>6027209269</td>\n",
       "      <td>NO CONTESTADO</td>\n",
       "      <td>0</td>\n",
       "      <td>7</td>\n",
       "      <td>1</td>\n",
       "      <td>6</td>\n",
       "      <td>3</td>\n",
       "      <td>2</td>\n",
       "    </tr>\n",
       "    <tr>\n",
       "      <th>3</th>\n",
       "      <td>2618</td>\n",
       "      <td>3245486955</td>\n",
       "      <td>NO CONTESTADO</td>\n",
       "      <td>0</td>\n",
       "      <td>7</td>\n",
       "      <td>1</td>\n",
       "      <td>6</td>\n",
       "      <td>3</td>\n",
       "      <td>2</td>\n",
       "    </tr>\n",
       "    <tr>\n",
       "      <th>4</th>\n",
       "      <td>2618</td>\n",
       "      <td>3016448358</td>\n",
       "      <td>NO CONTESTADO</td>\n",
       "      <td>0</td>\n",
       "      <td>7</td>\n",
       "      <td>1</td>\n",
       "      <td>6</td>\n",
       "      <td>3</td>\n",
       "      <td>2</td>\n",
       "    </tr>\n",
       "    <tr>\n",
       "      <th>5</th>\n",
       "      <td>2618</td>\n",
       "      <td>3017326595</td>\n",
       "      <td>CONTESTADO</td>\n",
       "      <td>3</td>\n",
       "      <td>7</td>\n",
       "      <td>1</td>\n",
       "      <td>6</td>\n",
       "      <td>3</td>\n",
       "      <td>0</td>\n",
       "    </tr>\n",
       "  </tbody>\n",
       "</table>\n",
       "</div>"
      ],
      "text/plain": [
       "   Fuente     Destino         Estado  Minutos  Hora  Dia_semana  Mes  Dia_mes  \\\n",
       "0    2618  3168170365     CONTESTADO        1     7           1    6        3   \n",
       "1    2615  6027315465  NO CONTESTADO        0     7           1    6        3   \n",
       "2    2615  6027209269  NO CONTESTADO        0     7           1    6        3   \n",
       "3    2618  3245486955  NO CONTESTADO        0     7           1    6        3   \n",
       "4    2618  3016448358  NO CONTESTADO        0     7           1    6        3   \n",
       "5    2618  3017326595     CONTESTADO        3     7           1    6        3   \n",
       "\n",
       "   Estado_encoder  \n",
       "0               0  \n",
       "1               2  \n",
       "2               2  \n",
       "3               2  \n",
       "4               2  \n",
       "5               0  "
      ]
     },
     "execution_count": 225,
     "metadata": {},
     "output_type": "execute_result"
    }
   ],
   "source": [
    "# Aplicar label encoder en todas als columans categoricas o typo object\n",
    "json_encoder = {}\n",
    "\n",
    "for columna in colum_pre:\n",
    "    columna_interes = df[columna]\n",
    "    encoder = LabelEncoder()\n",
    "\n",
    "    encoder.fit(columna_interes)\n",
    "\n",
    "    mapeo_categorias= dict(zip(encoder.classes_, encoder.transform(encoder.classes_)))\n",
    "    # Solución 1: Convertir los valores a int nativo de Python\n",
    "    # Iteramos sobre los valores del diccionario y los convertimos a int\n",
    "    mapeo_categorias_limpio = {k: int(v) for k, v in mapeo_categorias.items()}\n",
    "    # usar encoder para tranfromar categoria de columna de interes\n",
    "    colum_tran = encoder.transform(columna_interes)\n",
    "\n",
    "    df[columna+'_encoder'] = colum_tran\n",
    "\n",
    "    json_encoder[columna]= mapeo_categorias_limpio\n",
    "\n",
    "# guadarmso el json_encoder en un json \n",
    "# Nombre del archivo donde se guardará el JSON\n",
    "nombre_archivo = 'Encoders/mapeo_encoders.json'\n",
    "\n",
    "# Usamos 'with' para garantizar que el archivo se cierre correctamente\n",
    "with open(nombre_archivo, 'w') as f:\n",
    "    json.dump(json_encoder, f, indent=4)\n",
    "\n",
    "\n",
    "df.head(6)"
   ]
  },
  {
   "cell_type": "code",
   "execution_count": 226,
   "id": "087a3fe8",
   "metadata": {},
   "outputs": [
    {
     "name": "stdout",
     "output_type": "stream",
     "text": [
      "<class 'pandas.core.frame.DataFrame'>\n",
      "RangeIndex: 578958 entries, 0 to 578957\n",
      "Data columns (total 9 columns):\n",
      " #   Column          Non-Null Count   Dtype \n",
      "---  ------          --------------   ----- \n",
      " 0   Fuente          578958 non-null  int64 \n",
      " 1   Destino         578958 non-null  int64 \n",
      " 2   Estado          578958 non-null  object\n",
      " 3   Minutos         578958 non-null  int64 \n",
      " 4   Hora            578958 non-null  int64 \n",
      " 5   Dia_semana      578958 non-null  int64 \n",
      " 6   Mes             578958 non-null  int64 \n",
      " 7   Dia_mes         578958 non-null  int64 \n",
      " 8   Estado_encoder  578958 non-null  int64 \n",
      "dtypes: int64(8), object(1)\n",
      "memory usage: 39.8+ MB\n"
     ]
    }
   ],
   "source": [
    "df.info()"
   ]
  },
  {
   "cell_type": "code",
   "execution_count": 227,
   "id": "e4d606ea",
   "metadata": {},
   "outputs": [
    {
     "name": "stdout",
     "output_type": "stream",
     "text": [
      "<class 'pandas.core.frame.DataFrame'>\n",
      "RangeIndex: 578958 entries, 0 to 578957\n",
      "Data columns (total 8 columns):\n",
      " #   Column          Non-Null Count   Dtype\n",
      "---  ------          --------------   -----\n",
      " 0   Fuente          578958 non-null  int64\n",
      " 1   Destino         578958 non-null  int64\n",
      " 2   Minutos         578958 non-null  int64\n",
      " 3   Hora            578958 non-null  int64\n",
      " 4   Dia_semana      578958 non-null  int64\n",
      " 5   Mes             578958 non-null  int64\n",
      " 6   Dia_mes         578958 non-null  int64\n",
      " 7   Estado_encoder  578958 non-null  int64\n",
      "dtypes: int64(8)\n",
      "memory usage: 35.3 MB\n"
     ]
    }
   ],
   "source": [
    "# con la estrategia aplicada seleecionamos la columnas con ls que se va a entrenar relamente\n",
    "# si necesitan incluir ms tipos de datos utilizar la propiedad include=['int', 'float'] dentro de select.types()\n",
    "df_listo = df.select_dtypes('int')\n",
    "df_listo.info()\n"
   ]
  },
  {
   "cell_type": "code",
   "execution_count": 228,
   "id": "cbca4677",
   "metadata": {},
   "outputs": [],
   "source": [
    "# selecionar variable obejto y vriable independitnes es lo que llamaremos \n",
    "# matriz x = independientes \n",
    "# vector y =  dependiente\n",
    "\n",
    "X = df_listo.drop(columns=['Estado_encoder']) # se elimina la vairbale objetivo y se genera la matriz X\n",
    "\n",
    "y = df_listo['Estado_encoder'] # solo se toma la viable objetivo\n"
   ]
  },
  {
   "cell_type": "code",
   "execution_count": 229,
   "id": "aa738d40",
   "metadata": {},
   "outputs": [
    {
     "name": "stdout",
     "output_type": "stream",
     "text": [
      "Conjunto de datos de entrada de entrenamiento X_train: (57895, 7)\n",
      "Conjunto de datos de salida de entrenamiento y_train: (57895,)\n",
      "Conjunto de datos de entrada de prueba X_test: (521063, 7)\n",
      "Conjunto de datos de salida de prueba y_test: (521063,)\n"
     ]
    }
   ],
   "source": [
    "# corte de datos en entrenamiento y prueba de modelos\n",
    "#from sklearn.model_selection import train_test_split\n",
    "\n",
    "# División del conjunto de datos en entrenamiento y prueba\n",
    "\n",
    "X_train, X_test, y_train, y_test = train_test_split(X, y, test_size= 0.9, random_state= 42 )\n",
    "\n",
    "print('Conjunto de datos de entrada de entrenamiento X_train:', X_train.shape)\n",
    "print('Conjunto de datos de salida de entrenamiento y_train:', y_train.shape)\n",
    "\n",
    "print('Conjunto de datos de entrada de prueba X_test:', X_test.shape)\n",
    "print('Conjunto de datos de salida de prueba y_test:', y_test.shape)"
   ]
  },
  {
   "cell_type": "markdown",
   "id": "d4b9b0af",
   "metadata": {},
   "source": [
    "## Entrenamiento del modelo con random forest"
   ]
  },
  {
   "cell_type": "code",
   "execution_count": 230,
   "id": "acfc5605",
   "metadata": {},
   "outputs": [],
   "source": [
    "model_rfc = RandomForestClassifier(n_estimators=100, max_depth=10, random_state=42)# Entrenar modelo de machine learning\n",
    "model_dt = DecisionTreeClassifier()"
   ]
  },
  {
   "cell_type": "code",
   "execution_count": 231,
   "id": "ac1b19b3",
   "metadata": {},
   "outputs": [
    {
     "name": "stdout",
     "output_type": "stream",
     "text": [
      "Exactitud del modelo DecisionTreeClassifier =  0.9632501252247809\n",
      "Primeras 5 predicciones: [2 2 0 2 2]\n",
      "Primeros 5 valores reales: [2 2 0 2 2]\n"
     ]
    }
   ],
   "source": [
    "# Entrenar model DecisionTreeClassifier()\n",
    "\n",
    "#.fit(): Es el método o la acción de \"aprender\" o \"entrenar\". Le dice al modelo: \n",
    "# \"Es hora de estudiar los datos que te voy a dar\".\n",
    "model_dt.fit(X_train, y_train)\n",
    "\n",
    "y_pred_dt = model_dt.predict(X_test)\n",
    "\n",
    "accuracy_dt = accuracy_score( y_test, y_pred_dt)\n",
    "\n",
    "print('Exactitud del modelo DecisionTreeClassifier = ', accuracy_dt)\n",
    "# y_pred ahora contiene las predicciones del modelo para cada fila en X_test\n",
    "print(\"Primeras 5 predicciones:\", y_pred_dt[:5])\n",
    "print(\"Primeros 5 valores reales:\", y_test.head().values)\n"
   ]
  },
  {
   "cell_type": "code",
   "execution_count": 232,
   "id": "a55e8806",
   "metadata": {},
   "outputs": [
    {
     "name": "stdout",
     "output_type": "stream",
     "text": [
      "Exactitud del modelo RandomForestClassifier =  0.9786091125257407\n"
     ]
    }
   ],
   "source": [
    "# Entrenar model RandomForestClassifier\n",
    "\n",
    "model_rfc.fit(X_train, y_train)\n",
    "\n",
    "y_pred_dt_3 = model_rfc.predict(X_test)\n",
    "\n",
    "accuracy_dt_3 = accuracy_score( y_test, y_pred_dt_3)\n",
    "\n",
    "print('Exactitud del modelo RandomForestClassifier = ', accuracy_dt_3)"
   ]
  },
  {
   "cell_type": "code",
   "execution_count": 233,
   "id": "09aa3168",
   "metadata": {},
   "outputs": [
    {
     "name": "stdout",
     "output_type": "stream",
     "text": [
      "              precision    recall  f1-score   support\n",
      "\n",
      "           0       1.00      1.00      1.00    239297\n",
      "           1       0.23      0.26      0.24      3182\n",
      "           2       0.97      0.96      0.97    271428\n",
      "           3       0.16      0.17      0.16      7156\n",
      "\n",
      "    accuracy                           0.96    521063\n",
      "   macro avg       0.59      0.60      0.59    521063\n",
      "weighted avg       0.96      0.96      0.96    521063\n",
      "\n",
      "Exactitud del modelo: 0.96\n"
     ]
    }
   ],
   "source": [
    "from sklearn.metrics import classification_report, accuracy_score\n",
    "\n",
    "# Imprimir el reporte de clasificación\n",
    "print(classification_report(y_test, y_pred_dt))\n",
    "\n",
    "# También puedes calcular la exactitud por separado\n",
    "accuracy = accuracy_score(y_test, y_pred_dt)\n",
    "print(f\"Exactitud del modelo: {accuracy:.2f}\")\n"
   ]
  },
  {
   "cell_type": "code",
   "execution_count": 234,
   "id": "8ec88941",
   "metadata": {},
   "outputs": [
    {
     "data": {
      "image/png": "[encoded data removed]",
      "text/plain": [
       "<Figure size 600x400 with 2 Axes>"
      ]
     },
     "metadata": {},
     "output_type": "display_data"
    }
   ],
   "source": [
    "# Evaluación adicional del rendimiento del modelo DecisionTreeClassifier\n",
    "from sklearn.metrics import confusion_matrix, roc_auc_score\n",
    "import matplotlib.pyplot as plt\n",
    "import seaborn as sns\n",
    "\n",
    "# Matriz de confusión\n",
    "cm = confusion_matrix(y_test, y_pred_dt)\n",
    "plt.figure(figsize=(6,4))\n",
    "sns.heatmap(cm, annot=True, fmt='d', cmap='Blues')\n",
    "plt.title('Matriz de confusión DecisionTreeClassifier')\n",
    "plt.xlabel('Predicción')\n",
    "plt.ylabel('Real')\n",
    "plt.show()\n",
    "\n",
    "# Calcular ROC AUC si es binario\n",
    "if len(set(y_test)) == 2:\n",
    "    auc = roc_auc_score(y_test, y_pred_dt)\n",
    "    print(f\"ROC AUC: {auc:.2f}\")"
   ]
  },
  {
   "cell_type": "code",
   "execution_count": 235,
   "id": "3dc96034",
   "metadata": {},
   "outputs": [
    {
     "name": "stdout",
     "output_type": "stream",
     "text": [
      "              precision    recall  f1-score   support\n",
      "\n",
      "           0       1.00      1.00      1.00    239297\n",
      "           1       0.25      0.00      0.00      3182\n",
      "           2       0.96      1.00      0.98    271428\n",
      "           3       0.78      0.00      0.00      7156\n",
      "\n",
      "    accuracy                           0.98    521063\n",
      "   macro avg       0.75      0.50      0.50    521063\n",
      "weighted avg       0.97      0.98      0.97    521063\n",
      "\n"
     ]
    },
    {
     "data": {
      "image/png": "[encoded data removed]",
      "text/plain": [
       "<Figure size 600x400 with 2 Axes>"
      ]
     },
     "metadata": {},
     "output_type": "display_data"
    }
   ],
   "source": [
    "# Evaluación del rendimiento del modelo RandomForestClassifier\n",
    "from sklearn.metrics import confusion_matrix, classification_report, roc_auc_score\n",
    "import matplotlib.pyplot as plt\n",
    "import seaborn as sns\n",
    "\n",
    "# Reporte de clasificación\n",
    "print(classification_report(y_test, y_pred_dt_3))\n",
    "\n",
    "# Matriz de confusión\n",
    "cm_rf = confusion_matrix(y_test, y_pred_dt_3)\n",
    "plt.figure(figsize=(6,4))\n",
    "sns.heatmap(cm_rf, annot=True, fmt='d', cmap='Greens')\n",
    "plt.title('Matriz de confusión RandomForestClassifier')\n",
    "plt.xlabel('Predicción')\n",
    "plt.ylabel('Real')\n",
    "plt.show()\n",
    "\n",
    "# Calcular ROC AUC si es binario\n",
    "if len(set(y_test)) == 2:\n",
    "    auc_rf = roc_auc_score(y_test, y_pred_dt_3)\n",
    "    print(f\"ROC AUC RandomForestClassifier: {auc_rf:.2f}\")"
   ]
  },
  {
   "cell_type": "code",
   "execution_count": 236,
   "id": "66104f00",
   "metadata": {},
   "outputs": [
    {
     "data": {
      "image/png": "[encoded data removed]",
      "text/plain": [
       "<Figure size 1000x600 with 1 Axes>"
      ]
     },
     "metadata": {},
     "output_type": "display_data"
    },
    {
     "name": "stdout",
     "output_type": "stream",
     "text": [
      "  Característica  Importancia\n",
      "2        Minutos     0.950194\n",
      "1        Destino     0.023153\n",
      "0         Fuente     0.020354\n",
      "6        Dia_mes     0.002271\n",
      "3           Hora     0.001829\n",
      "4     Dia_semana     0.001243\n",
      "5            Mes     0.000956\n"
     ]
    }
   ],
   "source": [
    "# Importancia de las características según RandomForestClassifier\n",
    "import pandas as pd\n",
    "import matplotlib.pyplot as plt\n",
    "\n",
    "# Obtener importancias\n",
    "importancias = model_rfc.feature_importances_\n",
    "nombres_columnas = X_train.columns\n",
    "\n",
    "# Crear un DataFrame ordenado\n",
    "df_importancias = pd.DataFrame({'Característica': nombres_columnas, 'Importancia': importancias})\n",
    "df_importancias = df_importancias.sort_values(by='Importancia', ascending=False)\n",
    "\n",
    "# Visualizar\n",
    "plt.figure(figsize=(10,6))\n",
    "plt.barh(df_importancias['Característica'], df_importancias['Importancia'], color='teal')\n",
    "plt.xlabel('Importancia')\n",
    "plt.title('Importancia de las características - RandomForestClassifier')\n",
    "plt.gca().invert_yaxis()\n",
    "plt.show()\n",
    "\n",
    "# Mostrar tabla ordenada\n",
    "print(df_importancias)"
   ]
  },
  {
   "cell_type": "markdown",
   "id": "6584c6e6",
   "metadata": {},
   "source": [
    "### Interpretación y recomendaciones basadas en la importancia de las características\n",
    "Las variables con mayor importancia en el modelo RandomForestClassifier son las que más influyen en la predicción de llamadas contestadas. Se recomienda:\n",
    "- Analizar las características más relevantes para entender el comportamiento del sistema.\n",
    "- Considerar las variables principales para futuras mejoras de modelos o para la toma de decisiones.\n",
    "- Si alguna característica tiene baja importancia, podría evaluarse su exclusión en modelos futuros para simplificar el análisis.\n",
    "- Revisar si las variables más importantes tienen sentido desde el punto de vista del negocio y validar con expertos."
   ]
  },
  {
   "cell_type": "code",
   "execution_count": 237,
   "id": "da090c5a",
   "metadata": {},
   "outputs": [
    {
     "data": {
      "text/plain": [
       "['modelo_clasificador_llamadas.pkl']"
      ]
     },
     "execution_count": 237,
     "metadata": {},
     "output_type": "execute_result"
    }
   ],
   "source": [
    "\n",
    "# Guardar el modelo entrenado en un archivo\n",
    "joblib.dump(model_rfc, 'modelo_clasificador_llamadas.pkl')\n",
    "\n",
    "# Para cargarlo en el futuro:\n",
    "# modelo_cargado = joblib.load('modelo_clasificador_llamadas.pkl')\n"
   ]
  },
  {
   "cell_type": "code",
   "execution_count": 238,
   "id": "78f85c34",
   "metadata": {},
   "outputs": [
    {
     "data": {
      "text/plain": [
       "['modelo_decisiontree_llamadas.pkl']"
      ]
     },
     "execution_count": 238,
     "metadata": {},
     "output_type": "execute_result"
    }
   ],
   "source": [
    "# Guardar el modelo DecisionTreeClassifier entrenado\n",
    "\n",
    "joblib.dump(model_dt, 'modelo_decisiontree_llamadas.pkl')\n",
    "\n"
   ]
  }
 ],
 "metadata": {
  "kernelspec": {
   "display_name": "_env",
   "language": "python",
   "name": "python3"
  },
  "language_info": {
   "codemirror_mode": {
    "name": "ipython",
    "version": 3
   },
   "file_extension": ".py",
   "mimetype": "text/x-python",
   "name": "python",
   "nbconvert_exporter": "python",
   "pygments_lexer": "ipython3",
   "version": "3.13.7"
  }
 },
 "nbformat": 4,
 "nbformat_minor": 5
}

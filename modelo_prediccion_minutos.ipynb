{
 "cells": [
  {
   "cell_type": "code",
   "execution_count": 31,
   "id": "f47d244e",
   "metadata": {},
   "outputs": [
    {
     "name": "stdout",
     "output_type": "stream",
     "text": [
      "['Fuente' 'Destino' 'Minutos' 'Hora' 'Dia_semana' 'Mes' 'Dia_mes']\n",
      "[0]\n",
      "Resultados guardados en resultados_prediccion.csv\n",
      "[0]\n"
     ]
    }
   ],
   "source": [
    "import pandas as pd\n",
    "import joblib\n",
    "import json\n",
    "\n",
    "# Cargar el modelo\n",
    "modelo = joblib.load('modelo_clasificador_llamadas.pkl')\n",
    "# Crear manualmente los datos de entrada (ajusta los valores y columnas según tu modelo)\n",
    "\n",
    "# Verifica los nombres requeridos\n",
    "print(modelo.feature_names_in_)\n",
    "\n",
    "# Crea el DataFrame con los nombres correctos\n",
    "datos_dict = {\n",
    "    'Fuente': ['1001'],\n",
    "    'Destino': ['3001'],\n",
    "    'Minutos': [5],\n",
    "    'Hora': [14],\n",
    "    'Dia_semana': [2],\n",
    "    'Mes': [9],\n",
    "    'Dia_mes': [27]\n",
    "}\n",
    "df_nuevo = pd.DataFrame(datos_dict)\n",
    "\n",
    "# Aplicar encoders\n",
    "with open('Encoders/mapeo_encoders.json', 'r') as f:\n",
    "    mapeo_encoders = json.load(f)\n",
    "\n",
    "for columna, mapeo in mapeo_encoders.items():\n",
    "    if columna in df_nuevo.columns:\n",
    "        df_nuevo[columna + '_encoder'] = df_nuevo[columna].map(mapeo).fillna(-1).astype(int)\n",
    "\n",
    "# Seleccionar variables\n",
    "columnas_modelo = modelo.feature_names_in_\n",
    "X_nuevo = df_nuevo[columnas_modelo]\n",
    "\n",
    "# Realizar la predicción\n",
    "predicciones = modelo.predict(X_nuevo)\n",
    "print(predicciones)\n",
    "df_nuevo['prediccion'] = predicciones\n",
    "df_nuevo.to_csv('resultados_prediccion.csv', index=False)\n",
    "print('Resultados guardados en resultados_prediccion.csv')\n",
    "print(predicciones)\n",
    "\n",
    "#Verificar segun la predicción lea el encoder y me diga a que corresponde.\n",
    "\n"
   ]
  },
  {
   "cell_type": "code",
   "execution_count": 32,
   "id": "9a8a7baf",
   "metadata": {},
   "outputs": [
    {
     "name": "stdout",
     "output_type": "stream",
     "text": [
      "   prediccion prediccion_estado\n",
      "0           0        CONTESTADO\n"
     ]
    }
   ],
   "source": [
    "# Decodificar la predicción para saber a qué Estado pertenece\n",
    "with open('Encoders/mapeo_encoders.json', 'r') as f:\n",
    "    mapeo_encoders = json.load(f)\n",
    "\n",
    "# Usar el encoder de 'Estado' (ajusta el nombre si es diferente en tu mapeo)\n",
    "estado_encoder = mapeo_encoders.get('Estado', {})\n",
    "estado_decoder = {v: k for k, v in estado_encoder.items()}\n",
    "\n",
    "df_nuevo['prediccion_estado'] = df_nuevo['prediccion'].map(estado_decoder)\n",
    "print(df_nuevo2[['prediccion', 'prediccion_estado']])"
   ]
  },
  {
   "cell_type": "code",
   "execution_count": 33,
   "id": "b20e2aaf",
   "metadata": {},
   "outputs": [
    {
     "name": "stdout",
     "output_type": "stream",
     "text": [
      "[0]\n",
      "Resultados guardados en resultados_prediccion.csv\n"
     ]
    }
   ],
   "source": [
    "# Cargar modelo y realizar predicción sobre nuevos datos\n",
    "import pandas as pd\n",
    "import joblib\n",
    "import json\n",
    "\n",
    "# 1. Cargar el modelo entrenado (ajusta el nombre si usas otro modelo)\n",
    "modelo = joblib.load('modelo_clasificador_llamadas.pkl')\n",
    "\n",
    "# Crea el DataFrame con los nombres correctos\n",
    "datos_dict = {\n",
    "    'Fuente': ['1001'],\n",
    "    'Destino': ['3001'],\n",
    "    'Minutos': [5],\n",
    "    'Hora': [14],\n",
    "    'Dia_semana': [2],\n",
    "    'Mes': [9],\n",
    "    'Dia_mes': [27]\n",
    "}\n",
    "df_nuevo2 = pd.DataFrame(datos_dict)\n",
    "\n",
    "# 3. Eliminar columnas innecesarias (igual que en el entrenamiento)\n",
    "if 'Fecha' in df_nuevo2.columns:\n",
    "    df_nuevo2 = df_nuevo2.drop(columns=['Fecha'])\n",
    "\n",
    "# 4. Aplicar los mismos encoders a las columnas categóricas\n",
    "with open('Encoders/mapeo_encoders.json', 'r') as f:\n",
    "    mapeo_encoders = json.load(f)\n",
    "\n",
    "for columna, mapeo in mapeo_encoders.items():\n",
    "    if columna in df_nuevo2.columns:\n",
    "        df_nuevo2[columna + '_encoder'] = df_nuevo2[columna].map(mapeo).fillna(-1).astype(int)\n",
    "\n",
    "# 5. Seleccionar las mismas variables que usaste para entrenar\n",
    "columnas_modelo = modelo.feature_names_in_\n",
    "X_nuevo = df_nuevo2[columnas_modelo]\n",
    "\n",
    "# 6. Realizar la predicción\n",
    "predicciones2 = modelo.predict(X_nuevo)\n",
    "\n",
    "# 7. Mostrar o guardar los resultados\n",
    "print(predicciones2)\n",
    "df_nuevo2['prediccion'] = predicciones2\n",
    "df_nuevo2.to_csv('resultados_prediccion2.csv', index=False)\n",
    "print('Resultados guardados en resultados_prediccion.csv')"
   ]
  },
  {
   "cell_type": "code",
   "execution_count": 34,
   "id": "44b21d7f",
   "metadata": {},
   "outputs": [
    {
     "name": "stdout",
     "output_type": "stream",
     "text": [
      "   prediccion prediccion_estado\n",
      "0           0        CONTESTADO\n"
     ]
    }
   ],
   "source": [
    "# Decodificar la predicción para saber a qué Estado pertenece\n",
    "with open('Encoders/mapeo_encoders.json', 'r') as f:\n",
    "    mapeo_encoders = json.load(f)\n",
    "\n",
    "# Usar el encoder de 'Estado' (ajusta el nombre si es diferente en tu mapeo)\n",
    "estado_encoder = mapeo_encoders.get('Estado', {})\n",
    "estado_decoder = {v: k for k, v in estado_encoder.items()}\n",
    "\n",
    "df_nuevo2['prediccion_estado'] = df_nuevo2['prediccion'].map(estado_decoder)\n",
    "print(df_nuevo2[['prediccion', 'prediccion_estado']])"
   ]
  },
  {
   "cell_type": "markdown",
   "id": "22aa85e1",
   "metadata": {},
   "source": []
  }
 ],
 "metadata": {
  "kernelspec": {
   "display_name": "_env",
   "language": "python",
   "name": "python3"
  },
  "language_info": {
   "codemirror_mode": {
    "name": "ipython",
    "version": 3
   },
   "file_extension": ".py",
   "mimetype": "text/x-python",
   "name": "python",
   "nbconvert_exporter": "python",
   "pygments_lexer": "ipython3",
   "version": "3.13.7"
  }
 },
 "nbformat": 4,
 "nbformat_minor": 5
}

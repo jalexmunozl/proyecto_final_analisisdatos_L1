{
 "cells": [
  {
   "cell_type": "markdown",
   "id": "7dc4cc8b",
   "metadata": {},
   "source": [
    "## Proyecto final de Analisis de Datos nivel Explorador"
   ]
  },
  {
   "cell_type": "code",
   "execution_count": 64,
   "id": "696c5131",
   "metadata": {},
   "outputs": [],
   "source": [
    "#Importamos las librearías necesarias\n",
    "\n",
    "import pandas as pd\n",
    "import matplotlib.pyplot as plt"
   ]
  },
  {
   "cell_type": "code",
   "execution_count": 65,
   "id": "91c11334",
   "metadata": {},
   "outputs": [],
   "source": [
    "# definir las variables de rutas de los documentos.\n",
    "\n",
    "path_1_15_junio = 'datos-llamadas/Reporte_1_15_junio.csv'\n",
    "path_16_30_junio = 'datos-llamadas/Reporte_16_30_junio.csv'\n",
    "path_1_15_julio = 'datos-llamadas/Reporte_1_15_julio.csv'\n",
    "path_16_31_julio = 'datos-llamadas/Reporte_16_31_julio.csv'\n",
    "path_1_15_agosto = 'datos-llamadas/Reporte_1_15_agosto.csv'\n",
    "path_16_31_agosto = 'datos-llamadas/Reporte_16_31_agosto.csv'\n"
   ]
  },
  {
   "cell_type": "markdown",
   "id": "60cfabc4",
   "metadata": {},
   "source": [
    "## Proceso para concatenar todos los archivos en un solo DataFrame"
   ]
  },
  {
   "cell_type": "code",
   "execution_count": 66,
   "id": "47f9d33e",
   "metadata": {},
   "outputs": [
    {
     "name": "stderr",
     "output_type": "stream",
     "text": [
      "/var/folders/yv/992pmwyx2338xp5vbvly54740000gn/T/ipykernel_2530/4031964729.py:7: DtypeWarning: Columns (1) have mixed types. Specify dtype option on import or set low_memory=False.\n",
      "  df_agosto_1 = pd.read_csv(path_1_15_agosto, encoding='ISO-8859-1')\n"
     ]
    },
    {
     "data": {
      "text/html": [
       "<div>\n",
       "<style scoped>\n",
       "    .dataframe tbody tr th:only-of-type {\n",
       "        vertical-align: middle;\n",
       "    }\n",
       "\n",
       "    .dataframe tbody tr th {\n",
       "        vertical-align: top;\n",
       "    }\n",
       "\n",
       "    .dataframe thead th {\n",
       "        text-align: right;\n",
       "    }\n",
       "</style>\n",
       "<table border=\"1\" class=\"dataframe\">\n",
       "  <thead>\n",
       "    <tr style=\"text-align: right;\">\n",
       "      <th></th>\n",
       "      <th>Fecha</th>\n",
       "      <th>Fuente</th>\n",
       "      <th>DID</th>\n",
       "      <th>Grupo</th>\n",
       "      <th>Destino</th>\n",
       "      <th>Canal origen</th>\n",
       "      <th>PIN</th>\n",
       "      <th>Canal destino</th>\n",
       "      <th>Estado</th>\n",
       "      <th>Duración</th>\n",
       "      <th>Minutos</th>\n",
       "      <th>Aplicación</th>\n",
       "      <th>ID</th>\n",
       "      <th>Unnamed: 13</th>\n",
       "    </tr>\n",
       "  </thead>\n",
       "  <tbody>\n",
       "    <tr>\n",
       "      <th>0</th>\n",
       "      <td>2025-06-14 14:44:22</td>\n",
       "      <td>2598</td>\n",
       "      <td>3.017226e+09</td>\n",
       "      <td>NaN</td>\n",
       "      <td>3017225716</td>\n",
       "      <td>SIP/2598-00006bca</td>\n",
       "      <td>NaN</td>\n",
       "      <td>SIP/Tk_SIP_ITBX-00006bcb</td>\n",
       "      <td>NO CONTESTADO</td>\n",
       "      <td>0s</td>\n",
       "      <td>0</td>\n",
       "      <td>NaN</td>\n",
       "      <td>---</td>\n",
       "      <td>NaN</td>\n",
       "    </tr>\n",
       "    <tr>\n",
       "      <th>1</th>\n",
       "      <td>2025-06-14 14:43:52</td>\n",
       "      <td>2598</td>\n",
       "      <td>3.243452e+09</td>\n",
       "      <td>NaN</td>\n",
       "      <td>3243451911</td>\n",
       "      <td>SIP/2598-00006bc8</td>\n",
       "      <td>NaN</td>\n",
       "      <td>SIP/Tk_SIP_ITBX-00006bc9</td>\n",
       "      <td>CONTESTADO</td>\n",
       "      <td>2s</td>\n",
       "      <td>1</td>\n",
       "      <td>NaN</td>\n",
       "      <td>1749930232.30875</td>\n",
       "      <td>NaN</td>\n",
       "    </tr>\n",
       "    <tr>\n",
       "      <th>2</th>\n",
       "      <td>2025-06-14 13:49:23</td>\n",
       "      <td>2125</td>\n",
       "      <td>3.027014e+09</td>\n",
       "      <td>NaN</td>\n",
       "      <td>3027014405</td>\n",
       "      <td>SIP/2125-00006bbf</td>\n",
       "      <td>NaN</td>\n",
       "      <td>SIP/Tk_SIP_ITBX-00006bc0</td>\n",
       "      <td>CONTESTADO</td>\n",
       "      <td>334s (5m 34s)</td>\n",
       "      <td>6</td>\n",
       "      <td>NaN</td>\n",
       "      <td>1749926963.30866</td>\n",
       "      <td>NaN</td>\n",
       "    </tr>\n",
       "    <tr>\n",
       "      <th>3</th>\n",
       "      <td>2025-06-14 13:26:45</td>\n",
       "      <td>2653</td>\n",
       "      <td>6.044440e+09</td>\n",
       "      <td>NaN</td>\n",
       "      <td>6044440007</td>\n",
       "      <td>SIP/2653-00006bbb</td>\n",
       "      <td>NaN</td>\n",
       "      <td>SIP/Tk_SIP_ITBX-00006bbc</td>\n",
       "      <td>CONTESTADO</td>\n",
       "      <td>3s</td>\n",
       "      <td>1</td>\n",
       "      <td>NaN</td>\n",
       "      <td>1749925605.30862</td>\n",
       "      <td>NaN</td>\n",
       "    </tr>\n",
       "    <tr>\n",
       "      <th>4</th>\n",
       "      <td>2025-06-14 13:26:22</td>\n",
       "      <td>2653</td>\n",
       "      <td>6.045620e+09</td>\n",
       "      <td>NaN</td>\n",
       "      <td>6045620163</td>\n",
       "      <td>SIP/2653-00006bb9</td>\n",
       "      <td>NaN</td>\n",
       "      <td>SIP/Tk_SIP_ITBX-00006bba</td>\n",
       "      <td>NO CONTESTADO</td>\n",
       "      <td>0s</td>\n",
       "      <td>0</td>\n",
       "      <td>NaN</td>\n",
       "      <td>---</td>\n",
       "      <td>NaN</td>\n",
       "    </tr>\n",
       "  </tbody>\n",
       "</table>\n",
       "</div>"
      ],
      "text/plain": [
       "                 Fecha Fuente           DID  Grupo     Destino  \\\n",
       "0  2025-06-14 14:44:22   2598  3.017226e+09    NaN  3017225716   \n",
       "1  2025-06-14 14:43:52   2598  3.243452e+09    NaN  3243451911   \n",
       "2  2025-06-14 13:49:23   2125  3.027014e+09    NaN  3027014405   \n",
       "3  2025-06-14 13:26:45   2653  6.044440e+09    NaN  6044440007   \n",
       "4  2025-06-14 13:26:22   2653  6.045620e+09    NaN  6045620163   \n",
       "\n",
       "        Canal origen  PIN             Canal destino         Estado  \\\n",
       "0  SIP/2598-00006bca  NaN  SIP/Tk_SIP_ITBX-00006bcb  NO CONTESTADO   \n",
       "1  SIP/2598-00006bc8  NaN  SIP/Tk_SIP_ITBX-00006bc9     CONTESTADO   \n",
       "2  SIP/2125-00006bbf  NaN  SIP/Tk_SIP_ITBX-00006bc0     CONTESTADO   \n",
       "3  SIP/2653-00006bbb  NaN  SIP/Tk_SIP_ITBX-00006bbc     CONTESTADO   \n",
       "4  SIP/2653-00006bb9  NaN  SIP/Tk_SIP_ITBX-00006bba  NO CONTESTADO   \n",
       "\n",
       "        Duración  Minutos  Aplicación                ID  Unnamed: 13  \n",
       "0             0s        0         NaN               ---          NaN  \n",
       "1             2s        1         NaN  1749930232.30875          NaN  \n",
       "2  334s (5m 34s)        6         NaN  1749926963.30866          NaN  \n",
       "3             3s        1         NaN  1749925605.30862          NaN  \n",
       "4             0s        0         NaN               ---          NaN  "
      ]
     },
     "execution_count": 66,
     "metadata": {},
     "output_type": "execute_result"
    }
   ],
   "source": [
    "# Para esto, primero se leen los archivos csv y se concatenan en un solo dataframe.\n",
    "\n",
    "df_junio_1 = pd.read_csv(path_1_15_junio, encoding='ISO-8859-1')\n",
    "df_junio_2 = pd.read_csv(path_16_30_junio, encoding='ISO-8859-1')\n",
    "df_julio_1 = pd.read_csv(path_1_15_julio, encoding='ISO-8859-1')\n",
    "df_julio_2 = pd.read_csv(path_16_31_julio, encoding='ISO-8859-1')\n",
    "df_agosto_1 = pd.read_csv(path_1_15_agosto, encoding='ISO-8859-1')\n",
    "df_agosto_2 = pd.read_csv(path_16_31_agosto, encoding='ISO-8859-1')\n",
    "\n",
    "df_completo = pd.concat([df_junio_1, df_junio_2, df_julio_1, df_julio_2, df_agosto_1, df_agosto_2])\n",
    "\n",
    "# limpiamos memoria\n",
    "del df_julio_1, df_julio_2, df_agosto_1, df_agosto_2\n",
    "\n",
    "df_completo.head(5)"
   ]
  },
  {
   "cell_type": "code",
   "execution_count": 67,
   "id": "6f3d1e6a",
   "metadata": {},
   "outputs": [
    {
     "name": "stdout",
     "output_type": "stream",
     "text": [
      "<class 'pandas.core.frame.DataFrame'>\n",
      "Index: 578959 entries, 0 to 87565\n",
      "Data columns (total 14 columns):\n",
      " #   Column         Non-Null Count   Dtype  \n",
      "---  ------         --------------   -----  \n",
      " 0   Fecha          578959 non-null  object \n",
      " 1   Fuente         578959 non-null  object \n",
      " 2   DID            578358 non-null  float64\n",
      " 3   Grupo          0 non-null       float64\n",
      " 4   Destino        578959 non-null  int64  \n",
      " 5   Canal origen   578959 non-null  object \n",
      " 6   PIN            0 non-null       float64\n",
      " 7   Canal destino  578959 non-null  object \n",
      " 8   Estado         578959 non-null  object \n",
      " 9   Duración       578959 non-null  object \n",
      " 10  Minutos        578959 non-null  int64  \n",
      " 11  Aplicación     0 non-null       float64\n",
      " 12  ID             578959 non-null  object \n",
      " 13  Unnamed: 13    0 non-null       float64\n",
      "dtypes: float64(5), int64(2), object(7)\n",
      "memory usage: 66.3+ MB\n"
     ]
    }
   ],
   "source": [
    "# Revisamos la información del DataFrame completo\n",
    "df_completo.info()"
   ]
  },
  {
   "cell_type": "code",
   "execution_count": 68,
   "id": "10853d95",
   "metadata": {},
   "outputs": [
    {
     "data": {
      "text/plain": [
       "Fecha                 0\n",
       "Fuente                0\n",
       "DID                 601\n",
       "Grupo            578959\n",
       "Destino               0\n",
       "Canal origen          0\n",
       "PIN              578959\n",
       "Canal destino         0\n",
       "Estado                0\n",
       "Duración              0\n",
       "Minutos               0\n",
       "Aplicación       578959\n",
       "ID                    0\n",
       "Unnamed: 13      578959\n",
       "dtype: int64"
      ]
     },
     "execution_count": 68,
     "metadata": {},
     "output_type": "execute_result"
    }
   ],
   "source": [
    "df_completo.isnull().sum()"
   ]
  },
  {
   "cell_type": "code",
   "execution_count": 69,
   "id": "4f7530d1",
   "metadata": {},
   "outputs": [],
   "source": [
    "# Guardamos el DataFrame completo en un archivo CSV\n",
    "df_completo.to_csv('datos-llamadas/Reporte_completo.csv', index=False)"
   ]
  },
  {
   "cell_type": "code",
   "execution_count": 70,
   "id": "351c382a",
   "metadata": {},
   "outputs": [
    {
     "name": "stdout",
     "output_type": "stream",
     "text": [
      "Registros duplicados: 0\n",
      "<class 'pandas.core.frame.DataFrame'>\n",
      "Index: 578959 entries, 0 to 87565\n",
      "Data columns (total 14 columns):\n",
      " #   Column         Non-Null Count   Dtype  \n",
      "---  ------         --------------   -----  \n",
      " 0   Fecha          578959 non-null  object \n",
      " 1   Fuente         578959 non-null  object \n",
      " 2   DID            578358 non-null  float64\n",
      " 3   Grupo          0 non-null       float64\n",
      " 4   Destino        578959 non-null  int64  \n",
      " 5   Canal origen   578959 non-null  object \n",
      " 6   PIN            0 non-null       float64\n",
      " 7   Canal destino  578959 non-null  object \n",
      " 8   Estado         578959 non-null  object \n",
      " 9   Duración       578959 non-null  object \n",
      " 10  Minutos        578959 non-null  int64  \n",
      " 11  Aplicación     0 non-null       float64\n",
      " 12  ID             578959 non-null  object \n",
      " 13  Unnamed: 13    0 non-null       float64\n",
      "dtypes: float64(5), int64(2), object(7)\n",
      "memory usage: 66.3+ MB\n"
     ]
    }
   ],
   "source": [
    "# Cuantos registros duplicados hay?\n",
    "print(f\"Registros duplicados: {df_completo.duplicated().sum()}\")\n",
    "\n",
    "\n",
    "#Eliminar duplicados\n",
    "df_completo = df_completo.drop_duplicates()\n",
    "df_completo.info()"
   ]
  },
  {
   "cell_type": "code",
   "execution_count": 71,
   "id": "c17e46e8",
   "metadata": {},
   "outputs": [
    {
     "name": "stdout",
     "output_type": "stream",
     "text": [
      "<class 'pandas.core.frame.DataFrame'>\n",
      "Index: 578959 entries, 0 to 87565\n",
      "Data columns (total 5 columns):\n",
      " #   Column   Non-Null Count   Dtype \n",
      "---  ------   --------------   ----- \n",
      " 0   Fecha    578959 non-null  object\n",
      " 1   Fuente   578959 non-null  object\n",
      " 2   Destino  578959 non-null  int64 \n",
      " 3   Estado   578959 non-null  object\n",
      " 4   Minutos  578959 non-null  int64 \n",
      "dtypes: int64(2), object(3)\n",
      "memory usage: 26.5+ MB\n"
     ]
    },
    {
     "data": {
      "text/plain": [
       "Fecha      object\n",
       "Fuente     object\n",
       "Destino     int64\n",
       "Estado     object\n",
       "Minutos     int64\n",
       "dtype: object"
      ]
     },
     "execution_count": 71,
     "metadata": {},
     "output_type": "execute_result"
    }
   ],
   "source": [
    "# Eliminar la columna DID, Grupo, Canal Origen, PIN, Canal Destino, Aplicación, ID y Unnamed:13\n",
    "df_completo = df_completo.drop(columns=['DID', 'Grupo', 'Duración', 'Canal origen', 'PIN', 'Canal destino', 'Aplicación', 'ID', 'Unnamed: 13'])\n",
    "df_completo.info()\n",
    "# Revisamos los tipos de datos\n",
    "df_completo.dtypes\n"
   ]
  },
  {
   "cell_type": "code",
   "execution_count": 72,
   "id": "f44e126e",
   "metadata": {},
   "outputs": [
    {
     "data": {
      "text/plain": [
       "Fecha      datetime64[ns]\n",
       "Fuente             object\n",
       "Destino             int64\n",
       "Estado             object\n",
       "Minutos             int64\n",
       "dtype: object"
      ]
     },
     "execution_count": 72,
     "metadata": {},
     "output_type": "execute_result"
    }
   ],
   "source": [
    "# Convertir la columna 'Fecha' al tipo datetime\n",
    "df_completo['Fecha'] = pd.to_datetime(df_completo['Fecha'])\n",
    "df_completo.dtypes"
   ]
  },
  {
   "cell_type": "code",
   "execution_count": 73,
   "id": "4bde6122",
   "metadata": {},
   "outputs": [],
   "source": [
    "# Extraer características de la fecha\n",
    "#df_completo['Hora'] = df_completo['Fecha'].dt.hour\n",
    "#df_completo['Dia_semana'] = df_completo['Fecha'].dt.dayofweek # Lunes=0, Domingo=6\n",
    "#df_completo['Mes'] = df_completo['Fecha'].dt.month  # Junio=6, Julio=7, Agosto=8\n",
    "#df_completo['Dia_mes'] = df_completo['Fecha'].dt.day\n",
    "#df_completo.dtypes\n",
    "#df_completo.head(5)\n"
   ]
  },
  {
   "cell_type": "code",
   "execution_count": 74,
   "id": "c89781fa",
   "metadata": {},
   "outputs": [
    {
     "data": {
      "text/plain": [
       "Estado\n",
       "NO CONTESTADO    301586\n",
       "CONTESTADO       265893\n",
       "OCUPADO            7928\n",
       "FALLIDO            3552\n",
       "Name: count, dtype: int64"
      ]
     },
     "execution_count": 74,
     "metadata": {},
     "output_type": "execute_result"
    }
   ],
   "source": [
    "#Reporte de llamada por estado de llamada\n",
    "llamadas_contestadas = df_completo['Estado'].value_counts()\n",
    "llamadas_contestadas"
   ]
  },
  {
   "cell_type": "code",
   "execution_count": 75,
   "id": "d05b57f0",
   "metadata": {},
   "outputs": [
    {
     "name": "stdout",
     "output_type": "stream",
     "text": [
      "Total minutos en llamadas contestadas: 587264\n"
     ]
    }
   ],
   "source": [
    "# calcular total minutos en llamadas contestadas\n",
    "df_contestadas = df_completo[df_completo['Estado'] == 'CONTESTADO']\n",
    "time_llamadas_contestadas = df_contestadas['Minutos'].sum()\n",
    "\n",
    "print(f\"Total minutos en llamadas contestadas: {time_llamadas_contestadas}\")"
   ]
  },
  {
   "cell_type": "code",
   "execution_count": 76,
   "id": "14771f44",
   "metadata": {},
   "outputs": [
    {
     "name": "stdout",
     "output_type": "stream",
     "text": [
      "Cantidad de agentes: 413\n"
     ]
    }
   ],
   "source": [
    "#Cantidad de agentes\n",
    "estado_llamadas_agente = df_completo['Fuente'].value_counts()\n",
    "cantidad_agentes = estado_llamadas_agente.count()\n",
    "print(f\"Cantidad de agentes: {cantidad_agentes}\")"
   ]
  },
  {
   "cell_type": "code",
   "execution_count": 77,
   "id": "c082197c",
   "metadata": {},
   "outputs": [
    {
     "data": {
      "text/plain": [
       "87561   2025-08-16 07:59:20\n",
       "87562   2025-08-16 07:58:58\n",
       "87563   2025-08-16 07:58:47\n",
       "87564   2025-08-16 07:57:12\n",
       "87565   2025-08-16 07:50:24\n",
       "Name: Fecha, dtype: datetime64[ns]"
      ]
     },
     "execution_count": 77,
     "metadata": {},
     "output_type": "execute_result"
    }
   ],
   "source": [
    "# convertimos la columna fecha a datetime\n",
    "df_completo['Fecha'] = pd.to_datetime(df_completo['Fecha'])\n",
    "# verificamos el tipo de datos de la columna fecha\n",
    "df_completo['Fecha'].dtype\n",
    "# verificamos los datos de la columna fecha\n",
    "df_completo['Fecha'].head()\n",
    "# verificamos los datos de la columna fecha\n",
    "df_completo['Fecha'].tail()"
   ]
  },
  {
   "cell_type": "code",
   "execution_count": 78,
   "id": "0fee05d1",
   "metadata": {},
   "outputs": [
    {
     "data": {
      "text/html": [
       "<div>\n",
       "<style scoped>\n",
       "    .dataframe tbody tr th:only-of-type {\n",
       "        vertical-align: middle;\n",
       "    }\n",
       "\n",
       "    .dataframe tbody tr th {\n",
       "        vertical-align: top;\n",
       "    }\n",
       "\n",
       "    .dataframe thead th {\n",
       "        text-align: right;\n",
       "    }\n",
       "</style>\n",
       "<table border=\"1\" class=\"dataframe\">\n",
       "  <thead>\n",
       "    <tr style=\"text-align: right;\">\n",
       "      <th></th>\n",
       "      <th>Fecha</th>\n",
       "      <th>Fuente</th>\n",
       "      <th>Destino</th>\n",
       "      <th>Estado</th>\n",
       "      <th>Minutos</th>\n",
       "    </tr>\n",
       "  </thead>\n",
       "  <tbody>\n",
       "    <tr>\n",
       "      <th>86577</th>\n",
       "      <td>2025-06-03 07:01:03</td>\n",
       "      <td>2618</td>\n",
       "      <td>3168170365</td>\n",
       "      <td>CONTESTADO</td>\n",
       "      <td>1</td>\n",
       "    </tr>\n",
       "    <tr>\n",
       "      <th>86576</th>\n",
       "      <td>2025-06-03 07:07:35</td>\n",
       "      <td>2615</td>\n",
       "      <td>6027315465</td>\n",
       "      <td>NO CONTESTADO</td>\n",
       "      <td>0</td>\n",
       "    </tr>\n",
       "    <tr>\n",
       "      <th>86575</th>\n",
       "      <td>2025-06-03 07:07:51</td>\n",
       "      <td>2615</td>\n",
       "      <td>6027209269</td>\n",
       "      <td>NO CONTESTADO</td>\n",
       "      <td>0</td>\n",
       "    </tr>\n",
       "  </tbody>\n",
       "</table>\n",
       "</div>"
      ],
      "text/plain": [
       "                    Fecha Fuente     Destino         Estado  Minutos\n",
       "86577 2025-06-03 07:01:03   2618  3168170365     CONTESTADO        1\n",
       "86576 2025-06-03 07:07:35   2615  6027315465  NO CONTESTADO        0\n",
       "86575 2025-06-03 07:07:51   2615  6027209269  NO CONTESTADO        0"
      ]
     },
     "execution_count": 78,
     "metadata": {},
     "output_type": "execute_result"
    }
   ],
   "source": [
    "# para el analisis de series de tiempo es neecsario ordenar los datos por fecha\n",
    "df_completo = df_completo.sort_values(by='Fecha')\n",
    "df_completo.head(3)"
   ]
  },
  {
   "cell_type": "code",
   "execution_count": 79,
   "id": "cc7195ef",
   "metadata": {},
   "outputs": [
    {
     "data": {
      "text/html": [
       "<div>\n",
       "<style scoped>\n",
       "    .dataframe tbody tr th:only-of-type {\n",
       "        vertical-align: middle;\n",
       "    }\n",
       "\n",
       "    .dataframe tbody tr th {\n",
       "        vertical-align: top;\n",
       "    }\n",
       "\n",
       "    .dataframe thead th {\n",
       "        text-align: right;\n",
       "    }\n",
       "</style>\n",
       "<table border=\"1\" class=\"dataframe\">\n",
       "  <thead>\n",
       "    <tr style=\"text-align: right;\">\n",
       "      <th></th>\n",
       "      <th>Fecha</th>\n",
       "      <th>Fuente</th>\n",
       "      <th>Destino</th>\n",
       "      <th>Estado</th>\n",
       "      <th>Minutos</th>\n",
       "      <th>Hora</th>\n",
       "      <th>Dia_semana</th>\n",
       "      <th>Mes</th>\n",
       "      <th>Dia_mes</th>\n",
       "    </tr>\n",
       "  </thead>\n",
       "  <tbody>\n",
       "    <tr>\n",
       "      <th>86577</th>\n",
       "      <td>2025-06-03 07:01:03</td>\n",
       "      <td>2618</td>\n",
       "      <td>3168170365</td>\n",
       "      <td>CONTESTADO</td>\n",
       "      <td>1</td>\n",
       "      <td>7</td>\n",
       "      <td>1</td>\n",
       "      <td>6</td>\n",
       "      <td>3</td>\n",
       "    </tr>\n",
       "    <tr>\n",
       "      <th>86576</th>\n",
       "      <td>2025-06-03 07:07:35</td>\n",
       "      <td>2615</td>\n",
       "      <td>6027315465</td>\n",
       "      <td>NO CONTESTADO</td>\n",
       "      <td>0</td>\n",
       "      <td>7</td>\n",
       "      <td>1</td>\n",
       "      <td>6</td>\n",
       "      <td>3</td>\n",
       "    </tr>\n",
       "    <tr>\n",
       "      <th>86575</th>\n",
       "      <td>2025-06-03 07:07:51</td>\n",
       "      <td>2615</td>\n",
       "      <td>6027209269</td>\n",
       "      <td>NO CONTESTADO</td>\n",
       "      <td>0</td>\n",
       "      <td>7</td>\n",
       "      <td>1</td>\n",
       "      <td>6</td>\n",
       "      <td>3</td>\n",
       "    </tr>\n",
       "    <tr>\n",
       "      <th>86574</th>\n",
       "      <td>2025-06-03 07:11:30</td>\n",
       "      <td>2618</td>\n",
       "      <td>3245486955</td>\n",
       "      <td>NO CONTESTADO</td>\n",
       "      <td>0</td>\n",
       "      <td>7</td>\n",
       "      <td>1</td>\n",
       "      <td>6</td>\n",
       "      <td>3</td>\n",
       "    </tr>\n",
       "    <tr>\n",
       "      <th>86573</th>\n",
       "      <td>2025-06-03 07:12:37</td>\n",
       "      <td>2618</td>\n",
       "      <td>3016448358</td>\n",
       "      <td>NO CONTESTADO</td>\n",
       "      <td>0</td>\n",
       "      <td>7</td>\n",
       "      <td>1</td>\n",
       "      <td>6</td>\n",
       "      <td>3</td>\n",
       "    </tr>\n",
       "  </tbody>\n",
       "</table>\n",
       "</div>"
      ],
      "text/plain": [
       "                    Fecha Fuente     Destino         Estado  Minutos  Hora  \\\n",
       "86577 2025-06-03 07:01:03   2618  3168170365     CONTESTADO        1     7   \n",
       "86576 2025-06-03 07:07:35   2615  6027315465  NO CONTESTADO        0     7   \n",
       "86575 2025-06-03 07:07:51   2615  6027209269  NO CONTESTADO        0     7   \n",
       "86574 2025-06-03 07:11:30   2618  3245486955  NO CONTESTADO        0     7   \n",
       "86573 2025-06-03 07:12:37   2618  3016448358  NO CONTESTADO        0     7   \n",
       "\n",
       "       Dia_semana  Mes  Dia_mes  \n",
       "86577           1    6        3  \n",
       "86576           1    6        3  \n",
       "86575           1    6        3  \n",
       "86574           1    6        3  \n",
       "86573           1    6        3  "
      ]
     },
     "execution_count": 79,
     "metadata": {},
     "output_type": "execute_result"
    }
   ],
   "source": [
    "# Para esto agregamos columnas de mes y dia \n",
    "\n",
    "# Crea una nueva columna que contenga solo el mes y el año de la fecha\n",
    "#df_completo['mes_año'] = df_completo['Fecha'].dt.to_period('M')\n",
    "\n",
    "# Creamos una nueva columna que contenga solo la fecha (día, mes, año)\n",
    "#df_completo['dia'] = df_completo['Fecha'].dt.date\n",
    "\n",
    "#df_completo.head(3)\n",
    "\n",
    "# Extraer características de la fecha\n",
    "df_completo['Hora'] = df_completo['Fecha'].dt.hour\n",
    "df_completo['Dia_semana'] = df_completo['Fecha'].dt.dayofweek # Lunes=0, Domingo=6\n",
    "df_completo['Mes'] = df_completo['Fecha'].dt.month  # Junio=6, Julio=7, Agosto=8\n",
    "df_completo['Dia_mes'] = df_completo['Fecha'].dt.day\n",
    "df_completo.dtypes\n",
    "df_completo.head(5)\n"
   ]
  },
  {
   "cell_type": "code",
   "execution_count": 80,
   "id": "3fd38314",
   "metadata": {},
   "outputs": [],
   "source": [
    "# eliminar registro de columna fuente con valor de Unknown\n",
    "df_completo = df_completo[df_completo['Fuente'] != 'Unknown']"
   ]
  },
  {
   "cell_type": "code",
   "execution_count": 81,
   "id": "a37a148f",
   "metadata": {},
   "outputs": [
    {
     "name": "stdout",
     "output_type": "stream",
     "text": [
      "<class 'pandas.core.frame.DataFrame'>\n",
      "Index: 578958 entries, 86577 to 0\n",
      "Data columns (total 9 columns):\n",
      " #   Column      Non-Null Count   Dtype         \n",
      "---  ------      --------------   -----         \n",
      " 0   Fecha       578958 non-null  datetime64[ns]\n",
      " 1   Fuente      578958 non-null  int64         \n",
      " 2   Destino     578958 non-null  int64         \n",
      " 3   Estado      578958 non-null  object        \n",
      " 4   Minutos     578958 non-null  int64         \n",
      " 5   Hora        578958 non-null  int32         \n",
      " 6   Dia_semana  578958 non-null  int32         \n",
      " 7   Mes         578958 non-null  int32         \n",
      " 8   Dia_mes     578958 non-null  int32         \n",
      "dtypes: datetime64[ns](1), int32(4), int64(3), object(1)\n",
      "memory usage: 35.3+ MB\n"
     ]
    }
   ],
   "source": [
    "#Actualziar en la columna Fuente los registros con valor anonymous y reemplezarlo por el valor de 0\n",
    "df_completo['Fuente'] = df_completo['Fuente'].replace('anonymous', '0')\n",
    "#Cambiar el tipo de dato de la columna Fuente a int\n",
    "df_completo['Fuente'] = df_completo['Fuente'].astype(int)\n",
    "df_completo.info()"
   ]
  },
  {
   "cell_type": "code",
   "execution_count": 82,
   "id": "f559b0be",
   "metadata": {},
   "outputs": [],
   "source": [
    "df_completo.to_csv('datos_unidos_procesados.csv', index=False)"
   ]
  },
  {
   "cell_type": "code",
   "execution_count": 83,
   "id": "0a676137",
   "metadata": {},
   "outputs": [
    {
     "data": {
      "text/plain": [
       "Fecha         0\n",
       "Fuente        0\n",
       "Destino       0\n",
       "Estado        0\n",
       "Minutos       0\n",
       "Hora          0\n",
       "Dia_semana    0\n",
       "Mes           0\n",
       "Dia_mes       0\n",
       "dtype: int64"
      ]
     },
     "execution_count": 83,
     "metadata": {},
     "output_type": "execute_result"
    }
   ],
   "source": [
    "# Verificamos si hay valores nulos\n",
    "df_completo.isnull().sum()"
   ]
  },
  {
   "cell_type": "code",
   "execution_count": 84,
   "id": "12e80b8c",
   "metadata": {},
   "outputs": [
    {
     "name": "stdout",
     "output_type": "stream",
     "text": [
      "<class 'pandas.core.frame.DataFrame'>\n",
      "Index: 578958 entries, 86577 to 0\n",
      "Data columns (total 9 columns):\n",
      " #   Column      Non-Null Count   Dtype         \n",
      "---  ------      --------------   -----         \n",
      " 0   Fecha       578958 non-null  datetime64[ns]\n",
      " 1   Fuente      578958 non-null  int64         \n",
      " 2   Destino     578958 non-null  int64         \n",
      " 3   Estado      578958 non-null  object        \n",
      " 4   Minutos     578958 non-null  int64         \n",
      " 5   Hora        578958 non-null  int32         \n",
      " 6   Dia_semana  578958 non-null  int32         \n",
      " 7   Mes         578958 non-null  int32         \n",
      " 8   Dia_mes     578958 non-null  int32         \n",
      "dtypes: datetime64[ns](1), int32(4), int64(3), object(1)\n",
      "memory usage: 35.3+ MB\n"
     ]
    }
   ],
   "source": [
    "df_completo.info()\n"
   ]
  },
  {
   "cell_type": "code",
   "execution_count": 85,
   "id": "7d052f17",
   "metadata": {},
   "outputs": [
    {
     "data": {
      "text/plain": [
       "Estado\n",
       "NO CONTESTADO    301586\n",
       "CONTESTADO       265892\n",
       "OCUPADO            7928\n",
       "FALLIDO            3552\n",
       "Name: count, dtype: int64"
      ]
     },
     "execution_count": 85,
     "metadata": {},
     "output_type": "execute_result"
    }
   ],
   "source": [
    "# mi variable objetivo es Estado por lo cual re analiza el comportamiento de estas categorias\n",
    "variable_obt_categorias = df_completo['Estado'].value_counts()\n",
    "variable_obt_categorias\n",
    "\n"
   ]
  },
  {
   "cell_type": "code",
   "execution_count": 86,
   "id": "f197ce14",
   "metadata": {},
   "outputs": [
    {
     "data": {
      "text/plain": [
       "(4,)"
      ]
     },
     "execution_count": 86,
     "metadata": {},
     "output_type": "execute_result"
    }
   ],
   "source": [
    "#Se evidencia que la variable objetivo tiene un comportamiento desbalanceado, por lo cual se debe tener en cuenta en el modelo de machine learning.\n",
    "# shape devolverá una tupla que indica (número de filas, número de columnas).\n",
    "variable_obt_categorias.shape"
   ]
  }
 ],
 "metadata": {
  "kernelspec": {
   "display_name": "_env",
   "language": "python",
   "name": "python3"
  },
  "language_info": {
   "codemirror_mode": {
    "name": "ipython",
    "version": 3
   },
   "file_extension": ".py",
   "mimetype": "text/x-python",
   "name": "python",
   "nbconvert_exporter": "python",
   "pygments_lexer": "ipython3",
   "version": "3.13.7"
  }
 },
 "nbformat": 4,
 "nbformat_minor": 5
}
